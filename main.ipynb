{
  "nbformat": 4,
  "nbformat_minor": 0,
  "metadata": {
    "colab": {
      "provenance": []
    },
    "kernelspec": {
      "name": "python3",
      "display_name": "Python 3"
    },
    "language_info": {
      "name": "python"
    }
  },
  "cells": [
    {
      "cell_type": "code",
      "source": [
        "def processQueries(colors, queries):\n",
        "    def count_alternating(size):\n",
        "        count = 0\n",
        "        n = len(colors)\n",
        "        for i in range(n):\n",
        "            valid = True\n",
        "            for j in range(size-1):\n",
        "                if colors[(i + j) % n] == colors[(i + j + 1) % n]:\n",
        "                    valid = False\n",
        "                    break\n",
        "            if valid:\n",
        "                count += 1\n",
        "        return count\n",
        "\n",
        "    result = []\n",
        "\n",
        "    for query in queries:\n",
        "        if query[0] == 1:\n",
        "            size = query[1]\n",
        "            result.append(count_alternating(size))\n",
        "        elif query[0] == 2:\n",
        "            index, new_color = query[1], query[2]\n",
        "            colors[index] = new_color\n",
        "\n",
        "    return result"
      ],
      "metadata": {
        "id": "fMjRqpiSEv34"
      },
      "execution_count": null,
      "outputs": []
    },
    {
      "cell_type": "code",
      "source": [
        "# Example usage\n",
        "colors = [0, 1, 0, 1, 1, 0]\n",
        "queries = [[1, 2], [2, 3, 1], [1, 2]]\n",
        "\n",
        "result = processQueries(colors, queries)\n",
        "print(result)  # Output: [6, 5]"
      ],
      "metadata": {
        "colab": {
          "base_uri": "https://localhost:8080/"
        },
        "id": "LNRG-wnYExLu",
        "outputId": "765e9f46-ee7a-4e84-d236-6851f57d265e"
      },
      "execution_count": null,
      "outputs": [
        {
          "output_type": "stream",
          "name": "stdout",
          "text": [
            "[4, 4]\n"
          ]
        }
      ]
    },
    {
      "cell_type": "code",
      "source": [
        "def process_queries(colors, queries):\n",
        "    def count_alternating_sublists(size):\n",
        "        count = 0\n",
        "        n = len(colors)\n",
        "        for start in range(n):\n",
        "            # Check if we can form a sublist of 'size' starting from 'start'\n",
        "            if all(colors[(start + i) % n] != colors[(start + i + 1) % n] for i in range(0, size - 1)) and \\\n",
        "               (size == 1 or colors[start] != colors[(start + size - 1) % n]):\n",
        "                count += 1\n",
        "        return count\n",
        "\n",
        "    result = []\n",
        "\n",
        "    for query in queries:\n",
        "        if query[0] == 1:  # Count sublists of given size with alternating colors\n",
        "            size = query[1]\n",
        "            if size > len(colors):  # If size is larger than the list, no valid sublist can be formed\n",
        "                result.append(0)\n",
        "            else:\n",
        "                result.append(count_alternating_sublists(size))\n",
        "\n",
        "        elif query[0] == 2:  # Update color at index\n",
        "            index, color = query[1], query[2]\n",
        "            if 0 <= index < len(colors):\n",
        "                colors[index] = color\n",
        "            # Note: No need to append anything to result for this type of query\n",
        "\n",
        "    return result\n",
        "\n",
        "# Example usage:\n",
        "colors = [0, 1, 0, 1]\n",
        "queries = [\n",
        "    [1, 2],  # Count sublists of size 2\n",
        "    [2, 1, 0],  # Change color at index 1 to 0\n",
        "    [1, 2],  # Count again after change\n",
        "    [1, 3],  # Count sublists of size 3\n",
        "    [2, 3, 1]  # Change color at index 3 to 1\n",
        "]\n",
        "\n",
        "output = process_queries(colors, queries)\n",
        "print(output)  # This will print the results of the count queries"
      ],
      "metadata": {
        "id": "3RyCEnNiIOwd",
        "outputId": "87ef99b7-a1f0-4270-8357-cf1df07329b0",
        "colab": {
          "base_uri": "https://localhost:8080/"
        }
      },
      "execution_count": null,
      "outputs": [
        {
          "output_type": "stream",
          "name": "stdout",
          "text": [
            "[4, 2, 0]\n"
          ]
        }
      ]
    }
  ]
}